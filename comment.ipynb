{
  "nbformat": 4,
  "nbformat_minor": 0,
  "metadata": {
    "colab": {
      "provenance": [],
      "authorship_tag": "ABX9TyPlc2OEZP+I9Oo1o4uULkJ4",
      "include_colab_link": true
    },
    "kernelspec": {
      "name": "python3",
      "display_name": "Python 3"
    },
    "language_info": {
      "name": "python"
    }
  },
  "cells": [
    {
      "cell_type": "markdown",
      "metadata": {
        "id": "view-in-github",
        "colab_type": "text"
      },
      "source": [
        "<a href=\"https://colab.research.google.com/github/alirezaght/comment-verify/blob/main/comment.ipynb\" target=\"_parent\"><img src=\"https://colab.research.google.com/assets/colab-badge.svg\" alt=\"Open In Colab\"/></a>"
      ]
    },
    {
      "cell_type": "markdown",
      "source": [
        "Installing requirements"
      ],
      "metadata": {
        "id": "9pg2ah3ueOET"
      }
    },
    {
      "cell_type": "code",
      "execution_count": null,
      "metadata": {
        "id": "0Z4WNP9Bd-oG",
        "outputId": "e2e888c6-b086-4290-cf2a-b4e562c546ff",
        "colab": {
          "base_uri": "https://localhost:8080/"
        }
      },
      "outputs": [
        {
          "output_type": "stream",
          "name": "stdout",
          "text": [
            "Requirement already satisfied: Flask in /usr/local/lib/python3.10/dist-packages (2.2.5)\n",
            "Requirement already satisfied: openai in /usr/local/lib/python3.10/dist-packages (0.28.1)\n",
            "Requirement already satisfied: Werkzeug>=2.2.2 in /usr/local/lib/python3.10/dist-packages (from Flask) (3.0.1)\n",
            "Requirement already satisfied: Jinja2>=3.0 in /usr/local/lib/python3.10/dist-packages (from Flask) (3.1.2)\n",
            "Requirement already satisfied: itsdangerous>=2.0 in /usr/local/lib/python3.10/dist-packages (from Flask) (2.1.2)\n",
            "Requirement already satisfied: click>=8.0 in /usr/local/lib/python3.10/dist-packages (from Flask) (8.1.7)\n",
            "Requirement already satisfied: requests>=2.20 in /usr/local/lib/python3.10/dist-packages (from openai) (2.31.0)\n",
            "Requirement already satisfied: tqdm in /usr/local/lib/python3.10/dist-packages (from openai) (4.66.1)\n",
            "Requirement already satisfied: aiohttp in /usr/local/lib/python3.10/dist-packages (from openai) (3.8.6)\n",
            "Requirement already satisfied: MarkupSafe>=2.0 in /usr/local/lib/python3.10/dist-packages (from Jinja2>=3.0->Flask) (2.1.3)\n",
            "Requirement already satisfied: charset-normalizer<4,>=2 in /usr/local/lib/python3.10/dist-packages (from requests>=2.20->openai) (3.3.1)\n",
            "Requirement already satisfied: idna<4,>=2.5 in /usr/local/lib/python3.10/dist-packages (from requests>=2.20->openai) (3.4)\n",
            "Requirement already satisfied: urllib3<3,>=1.21.1 in /usr/local/lib/python3.10/dist-packages (from requests>=2.20->openai) (2.0.7)\n",
            "Requirement already satisfied: certifi>=2017.4.17 in /usr/local/lib/python3.10/dist-packages (from requests>=2.20->openai) (2023.7.22)\n",
            "Requirement already satisfied: attrs>=17.3.0 in /usr/local/lib/python3.10/dist-packages (from aiohttp->openai) (23.1.0)\n",
            "Requirement already satisfied: multidict<7.0,>=4.5 in /usr/local/lib/python3.10/dist-packages (from aiohttp->openai) (6.0.4)\n",
            "Requirement already satisfied: async-timeout<5.0,>=4.0.0a3 in /usr/local/lib/python3.10/dist-packages (from aiohttp->openai) (4.0.3)\n",
            "Requirement already satisfied: yarl<2.0,>=1.0 in /usr/local/lib/python3.10/dist-packages (from aiohttp->openai) (1.9.2)\n",
            "Requirement already satisfied: frozenlist>=1.1.1 in /usr/local/lib/python3.10/dist-packages (from aiohttp->openai) (1.4.0)\n",
            "Requirement already satisfied: aiosignal>=1.1.2 in /usr/local/lib/python3.10/dist-packages (from aiohttp->openai) (1.3.1)\n"
          ]
        }
      ],
      "source": [
        "pip install Flask openai"
      ]
    },
    {
      "cell_type": "markdown",
      "source": [
        "Importing libs"
      ],
      "metadata": {
        "id": "2a8-8wr9enPf"
      }
    },
    {
      "cell_type": "code",
      "source": [
        "import openai\n",
        "from flask import Flask, request, jsonify"
      ],
      "metadata": {
        "id": "PwdEf-PLemfi"
      },
      "execution_count": null,
      "outputs": []
    },
    {
      "cell_type": "markdown",
      "source": [
        "Setting the api key"
      ],
      "metadata": {
        "id": "4IJuRzoFeu5U"
      }
    },
    {
      "cell_type": "code",
      "source": [
        "openai.api_key = 'API KEY'"
      ],
      "metadata": {
        "id": "-03D9naweweu"
      },
      "execution_count": null,
      "outputs": []
    },
    {
      "cell_type": "markdown",
      "source": [
        "Initializing flask app"
      ],
      "metadata": {
        "id": "4xmZe-C2e1_w"
      }
    },
    {
      "cell_type": "code",
      "source": [
        "app = Flask(__name__)"
      ],
      "metadata": {
        "id": "ncxDTA6de3v0"
      },
      "execution_count": null,
      "outputs": []
    },
    {
      "cell_type": "markdown",
      "source": [
        "Connection to open api"
      ],
      "metadata": {
        "id": "OfcKY1kSeW7y"
      }
    },
    {
      "cell_type": "code",
      "source": [
        "def check_comment(comment):\n",
        "\n",
        "    try:\n",
        "        print(comment)\n",
        "        # Make a request to the GPT-3 API\n",
        "        response = openai.ChatCompletion.create(model=\"gpt-3.5-turbo\", messages=[\n",
        "            {'role': 'system', 'content': \"Gleam is an interactive horror chat story game, people can comment on each story, I don't want them to spoil the story or post any harmful or inappropriate comment, if it is appropriate respond yes and if it is not respond no, only these two responses are valid. if you are unsure and there is no harmful word inside the comment respond yes, please respond only with 'yes' or 'no'\"},\n",
        "            {'role': 'user', 'content': f\"Is the following comment appropriate for this game? {comment}\"}])\n",
        "        print(response)\n",
        "        answer = response['choices'][0]['message']['content'].strip()\n",
        "        # Check the response for appropriateness\n",
        "        is_appropriate = True if answer.lower() == 'yes' else False\n",
        "        return is_appropriate\n",
        "    except Exception as e:\n",
        "        print(e)\n",
        "        return None\n",
        "\n"
      ],
      "metadata": {
        "id": "ITsjRkJreq_F"
      },
      "execution_count": null,
      "outputs": []
    },
    {
      "cell_type": "markdown",
      "source": [
        "Testing the function"
      ],
      "metadata": {
        "id": "5c_h2D43gMtZ"
      }
    },
    {
      "cell_type": "code",
      "source": [
        "print(check_comment(\"This is a nice story\"))"
      ],
      "metadata": {
        "id": "f5GdWOsxgOmN",
        "outputId": "e9293018-4783-4e8a-f49f-5ebcdbbeddf2",
        "colab": {
          "base_uri": "https://localhost:8080/"
        }
      },
      "execution_count": null,
      "outputs": [
        {
          "output_type": "stream",
          "name": "stdout",
          "text": [
            "You exceeded your current quota, please check your plan and billing details.\n",
            "None\n"
          ]
        }
      ]
    },
    {
      "cell_type": "markdown",
      "source": [
        "Create the endpoint"
      ],
      "metadata": {
        "id": "Ee8kaHoZiEsY"
      }
    },
    {
      "cell_type": "code",
      "source": [
        "@app.route('/check', methods=['GET'])\n",
        "def check_comment_endpoint():\n",
        "    comment = request.args.get('comment', '')\n",
        "    is_appropriate = check_comment(comment)\n",
        "    return jsonify({'is_appropriate': is_appropriate}), 200"
      ],
      "metadata": {
        "id": "vWKh3FeNiGPK"
      },
      "execution_count": null,
      "outputs": []
    },
    {
      "cell_type": "markdown",
      "source": [
        "Bring up the app"
      ],
      "metadata": {
        "id": "rFlPkxyBioeT"
      }
    },
    {
      "cell_type": "code",
      "source": [
        "if __name__ == '__main__':\n",
        "    app.run(host='localhost', port=8000)"
      ],
      "metadata": {
        "id": "2jBVFnSHipmJ",
        "outputId": "526160bc-3645-42b0-b360-28fac3a68fa6",
        "colab": {
          "base_uri": "https://localhost:8080/"
        }
      },
      "execution_count": null,
      "outputs": [
        {
          "output_type": "stream",
          "name": "stdout",
          "text": [
            " * Serving Flask app '__main__'\n",
            " * Debug mode: off\n"
          ]
        },
        {
          "output_type": "stream",
          "name": "stderr",
          "text": [
            "INFO:werkzeug:\u001b[31m\u001b[1mWARNING: This is a development server. Do not use it in a production deployment. Use a production WSGI server instead.\u001b[0m\n",
            " * Running on http://localhost:8000\n",
            "INFO:werkzeug:\u001b[33mPress CTRL+C to quit\u001b[0m\n"
          ]
        }
      ]
    }
  ]
}